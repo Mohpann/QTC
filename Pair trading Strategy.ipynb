{
 "cells": [
  {
   "cell_type": "markdown",
   "id": "0118c72b",
   "metadata": {},
   "source": [
    "# Importing the libraries "
   ]
  },
  {
   "cell_type": "code",
   "execution_count": 126,
   "id": "775f6d08",
   "metadata": {},
   "outputs": [],
   "source": [
    "import yfinance as yf\n",
    "import numpy as np\n",
    "import yfinance as yf"
   ]
  },
  {
   "cell_type": "markdown",
   "id": "2e9d8b96",
   "metadata": {},
   "source": [
    "# Download historical data for the stock pair (e.g., AAPL and MSFT)"
   ]
  },
  {
   "cell_type": "code",
   "execution_count": 127,
   "id": "be4256de",
   "metadata": {},
   "outputs": [],
   "source": [
    "start_date = '2023-9-01'\n",
    "end_date = '2023-10-06'\n",
    "ticker1 = 'KO'\n",
    "ticker2 = 'PEP'"
   ]
  },
  {
   "cell_type": "code",
   "execution_count": 128,
   "id": "42f770b1",
   "metadata": {},
   "outputs": [
    {
     "name": "stdout",
     "output_type": "stream",
     "text": [
      "[*********************100%***********************]  1 of 1 completed\n",
      "[*********************100%***********************]  1 of 1 completed\n",
      "<class 'pandas.core.series.Series'>\n",
      "Date\n",
      "2023-09-01    58.843151\n",
      "2023-09-05    58.357010\n",
      "2023-09-06    58.317322\n",
      "2023-09-07    57.870869\n",
      "2023-09-08    57.870869\n",
      "2023-09-11    58.416538\n",
      "2023-09-12    57.841103\n",
      "2023-09-13    57.980000\n",
      "2023-09-14    58.459999\n",
      "2023-09-15    57.939999\n",
      "2023-09-18    58.299999\n",
      "2023-09-19    58.180000\n",
      "2023-09-20    58.439999\n",
      "2023-09-21    57.540001\n",
      "2023-09-22    57.599998\n",
      "2023-09-25    57.000000\n",
      "2023-09-26    56.529999\n",
      "2023-09-27    55.950001\n",
      "2023-09-28    55.810001\n",
      "2023-09-29    55.980000\n",
      "2023-10-02    55.480000\n",
      "2023-10-03    54.880001\n",
      "2023-10-04    55.040001\n",
      "2023-10-05    52.380001\n",
      "Name: Adj Close, dtype: float64\n",
      "Date\n",
      "2023-09-01    175.320007\n",
      "2023-09-05    174.160004\n",
      "2023-09-06    174.729996\n",
      "2023-09-07    176.399994\n",
      "2023-09-08    176.270004\n",
      "2023-09-11    178.929993\n",
      "2023-09-12    178.270004\n",
      "2023-09-13    179.679993\n",
      "2023-09-14    181.229996\n",
      "2023-09-15    179.839996\n",
      "2023-09-18    179.380005\n",
      "2023-09-19    178.320007\n",
      "2023-09-20    178.380005\n",
      "2023-09-21    175.380005\n",
      "2023-09-22    175.270004\n",
      "2023-09-25    174.330002\n",
      "2023-09-26    172.520004\n",
      "2023-09-27    169.570007\n",
      "2023-09-28    169.500000\n",
      "2023-09-29    169.440002\n",
      "2023-10-02    169.169998\n",
      "2023-10-03    167.699997\n",
      "2023-10-04    168.910004\n",
      "2023-10-05    160.100006\n",
      "Name: Adj Close, dtype: float64\n"
     ]
    }
   ],
   "source": [
    "data_coke = yf.download(ticker1, start=start_date, end=end_date)['Adj Close']\n",
    "data_pepsi = yf.download(ticker2, start=start_date, end=end_date)['Adj Close']\n",
    "print(type(data_coke))\n",
    "print(data_coke)\n",
    "print(data_pepsi)"
   ]
  },
  {
   "cell_type": "markdown",
   "id": "f8aa182b",
   "metadata": {},
   "source": [
    "# Calculate the spread and normalize it\n"
   ]
  },
  {
   "cell_type": "code",
   "execution_count": 129,
   "id": "c33e5a0b",
   "metadata": {},
   "outputs": [
    {
     "name": "stdout",
     "output_type": "stream",
     "text": [
      "Lenght of spread data: \n",
      "24\n",
      "<class 'pandas.core.series.Series'>\n",
      "Date\n",
      "2023-09-01   -116.476856\n",
      "2023-09-05   -115.802994\n",
      "2023-09-06   -116.412674\n",
      "2023-09-07   -118.529125\n",
      "2023-09-08   -118.399136\n",
      "2023-09-11   -120.513454\n",
      "2023-09-12   -120.428902\n",
      "2023-09-13   -121.699993\n",
      "2023-09-14   -122.769997\n",
      "2023-09-15   -121.899998\n",
      "2023-09-18   -121.080006\n",
      "2023-09-19   -120.140007\n",
      "2023-09-20   -119.940006\n",
      "2023-09-21   -117.840004\n",
      "2023-09-22   -117.670006\n",
      "2023-09-25   -117.330002\n",
      "2023-09-26   -115.990005\n",
      "2023-09-27   -113.620007\n",
      "2023-09-28   -113.689999\n",
      "2023-09-29   -113.460003\n",
      "2023-10-02   -113.689999\n",
      "2023-10-03   -112.819996\n",
      "2023-10-04   -113.870003\n",
      "2023-10-05   -107.720005\n",
      "Name: Adj Close, dtype: float64\n",
      "Date\n",
      "2023-09-01    0.186776\n",
      "2023-09-05    0.371543\n",
      "2023-09-06    0.204375\n",
      "2023-09-07   -0.375936\n",
      "2023-09-08   -0.340294\n",
      "2023-09-11   -0.920019\n",
      "2023-09-12   -0.896836\n",
      "2023-09-13   -1.245357\n",
      "2023-09-14   -1.538741\n",
      "2023-09-15   -1.300196\n",
      "2023-09-18   -1.075362\n",
      "2023-09-19   -0.817624\n",
      "2023-09-20   -0.762786\n",
      "2023-09-21   -0.186985\n",
      "2023-09-22   -0.140374\n",
      "2023-09-25   -0.047148\n",
      "2023-09-26    0.320266\n",
      "2023-09-27    0.970097\n",
      "2023-09-28    0.950906\n",
      "2023-09-29    1.013968\n",
      "2023-10-02    0.950906\n",
      "2023-10-03    1.189452\n",
      "2023-10-04    0.901550\n",
      "2023-10-05    2.587820\n",
      "Name: Adj Close, dtype: float64\n"
     ]
    }
   ],
   "source": [
    "spread = data_coke - data_pepsi\n",
    "print(\"Lenght of spread data: \")\n",
    "print(len(spread))\n",
    "spread_norm = (spread - spread.mean()) / spread.std()\n",
    "print(type(spread))\n",
    "print(spread)\n",
    "print(spread_norm)"
   ]
  },
  {
   "cell_type": "markdown",
   "id": "225ce37a",
   "metadata": {},
   "source": [
    "# Define trading thresholds\n"
   ]
  },
  {
   "cell_type": "code",
   "execution_count": 130,
   "id": "3d7bacdf",
   "metadata": {},
   "outputs": [],
   "source": [
    "entry_threshold = 1.5\n",
    "exit_threshold = 0.5"
   ]
  },
  {
   "cell_type": "code",
   "execution_count": 131,
   "id": "74262951",
   "metadata": {},
   "outputs": [
    {
     "name": "stdout",
     "output_type": "stream",
     "text": [
      "coke is LESS than pepsi\n",
      "taking LONG position at:\n",
      "58.459999084472656\n",
      "PNL is:\n",
      "-176.3000030517578\n",
      "coke is LESS than pepsi\n",
      "taking SHORT position at:\n",
      "160.10000610351562\n",
      "Total PnL: -176.30\n"
     ]
    }
   ],
   "source": [
    "position = 0 # default, no position\n",
    "pnl = 0.0\n",
    "for i in range(len(spread_norm)):\n",
    "    if position == 0:  # No open position\n",
    "        if spread_norm[i] > entry_threshold:  # Short the spread\n",
    "            if (data_coke[i] > data_pepsi[i]):\n",
    "                print(\"coke is GREATER than pepsi\")\n",
    "                entry_price = data_coke[i]\n",
    "            else:\n",
    "                print(\"coke is LESS than pepsi\")\n",
    "                entry_price = data_pepsi[i]\n",
    "            position = -1 # indicates taking a SHORT position (betting the stock will go down)\n",
    "            print(\"taking SHORT position at:\")\n",
    "            print(entry_price)\n",
    "            \n",
    "        elif spread_norm[i] < -entry_threshold:  # Long the spread\n",
    "            if (data_coke[i] < data_pepsi[i]):\n",
    "                print(\"coke is LESS than pepsi\")\n",
    "                entry_price = data_coke[i]\n",
    "            else:\n",
    "                print(\"coke is GREATER than pepsi\")\n",
    "                entry_price = data_pepsi[i]\n",
    "            position = 1 # indicates taking a LONG position (bettings the stock will go up)\n",
    "            print(\"taking LONG position at:\")\n",
    "            print(entry_price)\n",
    "\n",
    "    elif position == 1:  # Long the spread\n",
    "        if spread_norm[i] > -exit_threshold:  # Exit the long position\n",
    "            pnl += spread[i] - entry_price\n",
    "            position = 0\n",
    "            print(\"PNL is:\")\n",
    "            print(pnl)\n",
    "\n",
    "    elif position == -1:  # Short the spread\n",
    "        if spread_norm[i] < exit_threshold:  # Exit the short position\n",
    "            pnl += entry_price - spread[i]\n",
    "            position = 0\n",
    "            print(\"PNL is:\")\n",
    "            print(pnl)\n",
    "\n",
    "print(f'Total PnL: {pnl:.2f}')"
   ]
  }
 ],
 "metadata": {
  "kernelspec": {
   "display_name": "Python 3",
   "language": "python",
   "name": "python3"
  },
  "language_info": {
   "codemirror_mode": {
    "name": "ipython",
    "version": 3
   },
   "file_extension": ".py",
   "mimetype": "text/x-python",
   "name": "python",
   "nbconvert_exporter": "python",
   "pygments_lexer": "ipython3",
   "version": "3.10.11"
  }
 },
 "nbformat": 4,
 "nbformat_minor": 5
}
